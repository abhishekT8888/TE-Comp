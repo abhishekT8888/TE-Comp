{
 "cells": [
  {
   "cell_type": "code",
   "execution_count": 4,
   "id": "7d64b791-1845-4b7d-ab52-358984e5a64d",
   "metadata": {},
   "outputs": [
    {
     "name": "stdout",
     "output_type": "stream",
     "text": [
      "Hello! Welcome to our online store. How can I assist you today?\n"
     ]
    },
    {
     "name": "stdin",
     "output_type": "stream",
     "text": [
      "You:  hello\n"
     ]
    },
    {
     "name": "stdout",
     "output_type": "stream",
     "text": [
      "Hello! Welcome to our online store. How can I assist you today?\n"
     ]
    },
    {
     "name": "stdin",
     "output_type": "stream",
     "text": [
      "You:  category\n"
     ]
    },
    {
     "name": "stdout",
     "output_type": "stream",
     "text": [
      "Sure! What category of products are you interested in? We have electronics, clothing, books, and more.\n"
     ]
    },
    {
     "name": "stdin",
     "output_type": "stream",
     "text": [
      "You:  clothing\n"
     ]
    },
    {
     "name": "stdout",
     "output_type": "stream",
     "text": [
      "Great! Which product would you like to know more about?\n"
     ]
    },
    {
     "name": "stdin",
     "output_type": "stream",
     "text": [
      "You:  a tshirt\n"
     ]
    },
    {
     "name": "stdout",
     "output_type": "stream",
     "text": [
      "Would you like to purchase this item?\n"
     ]
    },
    {
     "name": "stdin",
     "output_type": "stream",
     "text": [
      "You:  yes\n"
     ]
    },
    {
     "name": "stdout",
     "output_type": "stream",
     "text": [
      "Thank you for shopping with us! Is there anything else I can assist you with?\n"
     ]
    }
   ],
   "source": [
    "def get_user_input():\n",
    "    return input(\"You: \")\n",
    "\n",
    "def respond_to_greeting():\n",
    "    return \"Hello! Welcome to our online store. How can I assist you today?\"\n",
    "\n",
    "def ask_for_category():\n",
    "    return \"Sure! What category of products are you interested in? We have electronics, clothing, books, and more.\"\n",
    "\n",
    "def ask_for_product():\n",
    "    return \"Great! Which product would you like to know more about?\"\n",
    "\n",
    "def ask_to_confirm_purchase():\n",
    "    return \"Would you like to purchase this item?\"\n",
    "\n",
    "def ask_for_size():\n",
    "    return \"What size do you need? (e.g., small, medium, large)\"\n",
    "\n",
    "def ask_for_color():\n",
    "    return \"What color would you like?\"\n",
    "\n",
    "def provide_recommendation():\n",
    "    return \"Based on your interests, I recommend checking out our latest arrivals in that category.\"\n",
    "\n",
    "def thank_you():\n",
    "    return \"Thank you for shopping with us! Is there anything else I can assist you with?\"\n",
    "\n",
    "def apologize():\n",
    "    return \"I'm sorry, I didn't quite get that. Could you please rephrase?\"\n",
    "\n",
    "def main():\n",
    "    print(respond_to_greeting())\n",
    "\n",
    "    context = None\n",
    "\n",
    "    while True:\n",
    "        user_input = get_user_input().lower()\n",
    "\n",
    "        if context == \"category\":\n",
    "            if user_input in [\"electronics\", \"clothing\", \"books\"]:\n",
    "                print(ask_for_product())\n",
    "                context = \"product\"\n",
    "            else:\n",
    "                print(\"Sorry, we don't have products in that category.\")\n",
    "                context = None\n",
    "        elif context == \"product\":\n",
    "            print(ask_to_confirm_purchase())\n",
    "            context = \"confirm_purchase\"\n",
    "        elif \"hi\" in user_input or \"hello\" in user_input:\n",
    "            print(respond_to_greeting())\n",
    "        elif \"category\" in user_input:\n",
    "            print(ask_for_category())\n",
    "            context = \"category\"\n",
    "        elif \"product\" in user_input:\n",
    "            print(ask_for_product())\n",
    "            context = \"product\"\n",
    "        elif \"yes\" in user_input and context == \"confirm_purchase\":\n",
    "            print(thank_you())\n",
    "            break\n",
    "        elif \"no\" in user_input and context == \"confirm_purchase\":\n",
    "            print(\"Okay, no problem. Is there anything else I can assist you with?\")\n",
    "            context = None\n",
    "        elif \"recommendation\" in user_input:\n",
    "            print(provide_recommendation())\n",
    "        elif \"thank you\" in user_input or \"thanks\" in user_input:\n",
    "            print(thank_you())\n",
    "            break\n",
    "        else:\n",
    "            print(apologize())\n",
    "\n",
    "if __name__ == \"__main__\":\n",
    "    main()\n",
    "# Hello! Welcome to our online store. How can I assist you today?\n",
    "# You:  hello\n",
    "# Hello! Welcome to our online store. How can I assist you today?\n",
    "# You:  category\n",
    "# Sure! What category of products are you interested in? We have electronics, clothing, books, and more.\n",
    "# You:  clothing\n",
    "# Great! Which product would you like to know more about?\n",
    "# You:  a tshirt\n",
    "# Would you like to purchase this item?\n",
    "# You:  yes\n",
    "# Thank you for shopping with us! Is there anything else I can assist you with?\n",
    "\n"
   ]
  },
  {
   "cell_type": "code",
   "execution_count": null,
   "id": "941f5098-4722-48d6-92a6-05c64d8dbe5c",
   "metadata": {},
   "outputs": [],
   "source": [
    "import random\n",
    "\n",
    "def greet():\n",
    "    greetings = [\"Hi there!\", \"Hello!\", \"Hey!\"]\n",
    "    return random.choice(greetings)\n",
    "\n",
    "def ask_name():\n",
    "    return input(\"What's your name? \")\n",
    "\n",
    "def chat():\n",
    "    print(greet())\n",
    "    name = ask_name()\n",
    "    print(\"Nice to meet you, \" + name + \"!\")\n",
    "    while True:\n",
    "        user_input = input(\"You: \")\n",
    "        if user_input.lower() == 'exit':\n",
    "            print(\"Bot: Goodbye!\")\n",
    "            break\n",
    "        else:\n",
    "            response = generate_response(user_input)\n",
    "            print(\"Bot:\", response)\n",
    "\n",
    "def generate_response(user_input):\n",
    "    responses = {\n",
    "        \"hello\": \"Hello! Welcome to our online store. How can I assist you today?\",\n",
    "        \"what products do you offer?\": \"We offer a wide range of products including electronics, clothing, accessories, home goods, and more!\",\n",
    "        \"do you have any sales or promotions?\": \"Yes, we often have sales and promotions! You can check our website or sign up for our newsletter to stay updated.\",\n",
    "        \"can I track my order?\": \"Of course! Please provide your order number and I'll look up the status for you.\",\n",
    "        \"how do I return an item?\": \"We have a hassle-free return policy. Simply contact our customer service team and they'll assist you with the return process.\",\n",
    "        \"what payment methods do you accept?\": \"We accept various payment methods including credit/debit cards, PayPal, and bank transfers.\",\n",
    "        \"do you offer international shipping?\": \"Yes, we offer international shipping to many countries. You can check the shipping options during checkout.\",\n",
    "        \"how long does shipping take?\": \"Shipping times depend on your location and the shipping method chosen. You can find estimated delivery times during checkout.\",\n",
    "        \"is my personal information secure?\": \"Absolutely! We take customer privacy and security very seriously. Your personal information is encrypted and protected.\",\n",
    "        \"what's your refund policy?\": \"We offer refunds on eligible items within a specified period. Please refer to our refund policy for more details.\",\n",
    "        \"do you have a customer loyalty program?\": \"Yes, we have a loyalty program where you can earn points for every purchase and redeem them for discounts or rewards.\",\n",
    "        \"can I speak to a human representative?\": \"Certainly! If you need further assistance, please contact our customer service team and they'll be happy to help.\",\n",
    "        \"bye\": \"Thank you for visiting our store! Have a great day!\",\n",
    "    }\n",
    "    response = responses.get(user_input.lower(), \"I'm sorry, I didn't understand that.\")\n",
    "    return response\n",
    "\n",
    "if __name__ == \"__main__\":\n",
    "    chat()"
   ]
  },
  {
   "cell_type": "code",
   "execution_count": null,
   "id": "dabd0ccc-47cb-4684-b26e-1a7c41c83505",
   "metadata": {},
   "outputs": [],
   "source": []
  }
 ],
 "metadata": {
  "kernelspec": {
   "display_name": "Python 3 (ipykernel)",
   "language": "python",
   "name": "python3"
  },
  "language_info": {
   "codemirror_mode": {
    "name": "ipython",
    "version": 3
   },
   "file_extension": ".py",
   "mimetype": "text/x-python",
   "name": "python",
   "nbconvert_exporter": "python",
   "pygments_lexer": "ipython3",
   "version": "3.11.7"
  }
 },
 "nbformat": 4,
 "nbformat_minor": 5
}
