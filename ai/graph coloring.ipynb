{
 "cells": [
  {
   "cell_type": "code",
   "execution_count": 3,
   "id": "1c5acbf9",
   "metadata": {},
   "outputs": [
    {
     "name": "stdout",
     "output_type": "stream",
     "text": [
      "Enter Number of Max Colors: 3\n",
      "Enter the numner of Edges3\n",
      "1 2\n",
      "2 3\n",
      "3 1\n",
      "{1: 'Red', 2: 'Green', 3: -1, 0: 'Red'}\n"
     ]
    }
   ],
   "source": [
    "m = int(input(\"Enter Number of Max Colors: \"))\n",
    "g = {}\n",
    "\n",
    "n = int(input(\"Enter the numner of Edges\"))\n",
    "\n",
    "for i in range(n):\n",
    "    a,b = map(int, input().split())\n",
    "    if g.get(a) == None:\n",
    "        g[a] = []\n",
    "    g[a].append(b)    \n",
    "    if g.get(b) == None:\n",
    "        g[b] = []\n",
    "    g[b].append(a) \n",
    "\n",
    "posCol = [\"Red\", \"Green\", \"Blue\", \"Pink\", \"Violet\", \"Yellow\", \"White\", \"Black\"]\n",
    "\n",
    "def canColour(g, n, col, colList):\n",
    "    if n in g:\n",
    "        for child in g[n]:\n",
    "            if colList[child] == posCol[col]:\n",
    "                return False\n",
    "    return True\n",
    "      \n",
    "        \n",
    "\n",
    "def graphColoring(g,m,v,n,colList):\n",
    "    if n == v:\n",
    "        return True\n",
    "\n",
    "    for col in range(m):\n",
    "        if canColour(g,n,col,colList):\n",
    "            colList[n] = posCol[col]\n",
    "            if graphColoring(g,m,v,n+1,colList) == True:\n",
    "                return True\n",
    "            colList[n] = -1\n",
    "\n",
    "colList = {}\n",
    "\n",
    "for i in g.keys():\n",
    "    colList[i] = -1\n",
    "\n",
    "if graphColoring(g,m,len(g.keys()),0,colList):\n",
    "    print(colList)\n",
    "else:\n",
    "    print(f\"Can't colour using m{{m}} colors\")"
   ]
  },
  {
   "cell_type": "code",
   "execution_count": null,
   "id": "b7f3c3c3",
   "metadata": {},
   "outputs": [],
   "source": []
  }
 ],
 "metadata": {
  "kernelspec": {
   "display_name": "Python 3 (ipykernel)",
   "language": "python",
   "name": "python3"
  },
  "language_info": {
   "codemirror_mode": {
    "name": "ipython",
    "version": 3
   },
   "file_extension": ".py",
   "mimetype": "text/x-python",
   "name": "python",
   "nbconvert_exporter": "python",
   "pygments_lexer": "ipython3",
   "version": "3.11.5"
  }
 },
 "nbformat": 4,
 "nbformat_minor": 5
}
