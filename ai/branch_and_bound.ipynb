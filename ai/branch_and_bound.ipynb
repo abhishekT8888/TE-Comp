{
 "cells": [
  {
   "cell_type": "code",
   "execution_count": 11,
   "id": "8aa418c3",
   "metadata": {},
   "outputs": [
    {
     "name": "stdout",
     "output_type": "stream",
     "text": [
      "Enter Number of Max Colors: 3\n",
      "Enter the number of Edges: 3\n",
      "1 2\n",
      "2 3\n",
      "3 1\n",
      "Graph coloring:\n",
      "Vertex 0 colored with: Blue\n",
      "Vertex 1 colored with: Blue\n",
      "Vertex 2 colored with: Green\n"
     ]
    }
   ],
   "source": [
    "import heapq\n",
    "\n",
    "def can_colour(g, n, col, col_list, pos_col):\n",
    "    for child in g.get(n, []):\n",
    "        if col_list[child - 1] == pos_col[col]:  # Adjust index here\n",
    "            return False\n",
    "    return True\n",
    "\n",
    "\n",
    "def graph_coloring_branch_and_bound(g, m, col_list, pos_col):\n",
    "    def bound(v):\n",
    "        max_used_color = max(col_list[:v]) if v > 0 else 0\n",
    "        return max_used_color\n",
    "\n",
    "    def _graph_coloring():\n",
    "        pq = [(0, [-1] * len(g.keys()))]\n",
    "\n",
    "        while pq:\n",
    "            used_colors, coloring = heapq.heappop(pq)\n",
    "\n",
    "            v = coloring.index(-1) if -1 in coloring else len(g.keys())\n",
    "            if v == len(g.keys()):\n",
    "                return coloring\n",
    "\n",
    "            for col in range(m):\n",
    "                if can_colour(g, v, col, coloring, pos_col):\n",
    "                    new_coloring = list(coloring)\n",
    "                    new_coloring[v] = pos_col[col]\n",
    "                    heapq.heappush(pq, (used_colors + 1, new_coloring))\n",
    "\n",
    "    coloring = _graph_coloring()\n",
    "    num_colors_used = len(set(coloring))\n",
    "    if num_colors_used <= m:\n",
    "        return coloring\n",
    "    return None\n",
    "\n",
    "def main():\n",
    "    m = int(input(\"Enter Number of Max Colors: \"))\n",
    "    g = {}\n",
    "\n",
    "    n = int(input(\"Enter the number of Edges: \"))\n",
    "\n",
    "    for _ in range(n):\n",
    "        a, b = map(int, input().split())\n",
    "        if g.get(a) is None:\n",
    "            g[a] = []\n",
    "        g[a].append(b)\n",
    "        if g.get(b) is None:\n",
    "            g[b] = []\n",
    "        g[b].append(a)\n",
    "\n",
    "    col_list = [-1] * len(g.keys())\n",
    "\n",
    "    pos_col = [\"Red\", \"Green\", \"Blue\", \"Pink\", \"Violet\", \"Yellow\", \"White\", \"Black\"]\n",
    "\n",
    "    coloring = graph_coloring_branch_and_bound(g, m, col_list, pos_col)\n",
    "    if coloring:\n",
    "        print(\"Graph coloring:\")\n",
    "        for i, c in enumerate(coloring):\n",
    "            print(\"Vertex\", i, \"colored with:\", c)\n",
    "    else:\n",
    "        print(f\"Can't color using {m} colors\")\n",
    "\n",
    "if __name__ == \"__main__\":\n",
    "    main()"
   ]
  },
  {
   "cell_type": "code",
   "execution_count": null,
   "id": "0cb80c24",
   "metadata": {},
   "outputs": [],
   "source": []
  }
 ],
 "metadata": {
  "kernelspec": {
   "display_name": "Python 3 (ipykernel)",
   "language": "python",
   "name": "python3"
  },
  "language_info": {
   "codemirror_mode": {
    "name": "ipython",
    "version": 3
   },
   "file_extension": ".py",
   "mimetype": "text/x-python",
   "name": "python",
   "nbconvert_exporter": "python",
   "pygments_lexer": "ipython3",
   "version": "3.11.5"
  }
 },
 "nbformat": 4,
 "nbformat_minor": 5
}
