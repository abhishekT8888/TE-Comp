{
 "cells": [
  {
   "cell_type": "code",
   "execution_count": null,
   "id": "e2f95ca9",
   "metadata": {},
   "outputs": [
    {
     "name": "stdout",
     "output_type": "stream",
     "text": [
      "Hi there!Welcome to Shopizo!\n",
      "What's your name? Abhishek\n",
      "Nice to meet you, Abhishek! how can i help you?\n",
      "You: i want to track my order\n",
      "shopizo ok!Can you tell me order number?\n",
      "You: 123456789\n",
      "shopizo I'm sorry, I didn't understand that.\n"
     ]
    }
   ],
   "source": [
    "\n",
    "import random\n",
    "\n",
    "def greet():\n",
    "    greetings = [\"Hi there!Welcome to Shopizo!\", \"Hello!Welcome to Shopizo!\", \"Hey!Welcome to Shopizo!\"]\n",
    "    return random.choice(greetings)\n",
    "\n",
    "def ask_name():\n",
    "    return input(\"What's your name? \")\n",
    "\n",
    "def chat():\n",
    "    print(greet())\n",
    "    name = ask_name()\n",
    "    print(\"Nice to meet you, \"+ name + \"! how can i help you?\")\n",
    "    while True:\n",
    "        user_input = input(\"You: \")\n",
    "        if user_input.lower() == 'exit':\n",
    "            print(\"Shopixo: Goodbye\")\n",
    "            break\n",
    "        else:\n",
    "            response = generate_response(user_input)\n",
    "            print(\"shopizo\", response)\n",
    "\n",
    "def generate_response(user_input):\n",
    "    responses = {\n",
    "        \"i want to track my order\": \"ok!Can you tell me order number?\",\n",
    "        \"i want to update my contact number\": \"Sure!Enter your new contact number\",\n",
    "        \"i want to have a call with your authority\": \"OK.You will receive a call soon!\",\n",
    "        \"when Will I receive my order\": \"Tell me your Order number\",\n",
    "        \"i want to update my adress\": \"Sure sir,tell us your new address.\",\n",
    "        \"what is the procedure for exchanging order\": \"Go to my orders,go to your recent order for exchange,select the option for exhange\",\n",
    "        \"what is the processs for return?\": \"Go to my orders,go to your recent order for exchange,select the option for return\",\n",
    "        \"my money after return hasn't deposited yet,please  let me know\": \"Can I know your account number?\",\n",
    "        \"in how many days is product generally delivered\": \"Generally in less than 4-5 days\",\n",
    "        \"will I get exchange in case of damaged products\": \"Which products can be exchanged is specified at the begining of product.So you will get an exchange at only those products. \",\n",
    "        \"thank you\": \"You're welcome!\",\n",
    "        \"bye\": \"Goodbye!\",\n",
    "        \"exit\": \"Goodbye!\",\n",
    "\n",
    "    }\n",
    "    response = responses.get(user_input.lower(), \"I'm sorry, I didn't understand that.\")\n",
    "    return response\n",
    "\n",
    "chat()\n",
    "\n",
    "\n"
   ]
  },
  {
   "cell_type": "code",
   "execution_count": null,
   "id": "b98d3eac",
   "metadata": {},
   "outputs": [],
   "source": []
  }
 ],
 "metadata": {
  "kernelspec": {
   "display_name": "Python 3 (ipykernel)",
   "language": "python",
   "name": "python3"
  },
  "language_info": {
   "codemirror_mode": {
    "name": "ipython",
    "version": 3
   },
   "file_extension": ".py",
   "mimetype": "text/x-python",
   "name": "python",
   "nbconvert_exporter": "python",
   "pygments_lexer": "ipython3",
   "version": "3.11.5"
  }
 },
 "nbformat": 4,
 "nbformat_minor": 5
}
