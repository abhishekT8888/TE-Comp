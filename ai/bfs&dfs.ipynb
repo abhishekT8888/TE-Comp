{
 "cells": [
  {
   "cell_type": "code",
   "execution_count": null,
   "id": "6244d6b2",
   "metadata": {
    "scrolled": true
   },
   "outputs": [],
   "source": []
  },
  {
   "cell_type": "code",
   "execution_count": null,
   "id": "fca22beb",
   "metadata": {},
   "outputs": [],
   "source": []
  },
  {
   "cell_type": "code",
   "execution_count": 7,
   "id": "ce4fb05f",
   "metadata": {},
   "outputs": [
    {
     "name": "stdout",
     "output_type": "stream",
     "text": [
      "Enter number of nodes: 3\n",
      "Enter number of edges for node 1: 1\n",
      "Enter edge 1 for node 1: 2\n",
      "Enter number of edges for node 2: 4\n",
      "Enter edge 1 for node 2: 5\n",
      "Enter edge 2 for node 2: 6\n",
      "Enter edge 3 for node 2: 7\n",
      "Enter edge 4 for node 2: 8\n",
      "Enter number of edges for node 3: 9\n",
      "Enter edge 1 for node 3: 10\n",
      "Enter edge 2 for node 3: 11\n",
      "Enter edge 3 for node 3: 1\n",
      "Enter edge 4 for node 3: 2\n",
      "Enter edge 5 for node 3: 31\n",
      "Enter edge 6 for node 3: 14\n",
      "Enter edge 7 for node 3: 15\n",
      "Enter edge 8 for node 3: 1\n",
      "Enter edge 9 for node 3: 6\n",
      "The following is DFS\n",
      "1 2 5 6 7 8 \n",
      "The following is BFS\n",
      "1 2 5 6 7 8 "
     ]
    }
   ],
   "source": [
    "def dfs(visited, graph, node):\n",
    "    if node not in visited:\n",
    "        print(node, end=\" \")\n",
    "        visited.add(node)\n",
    "        if node in graph:  # Check if node exists in the graph\n",
    "            for neighbour in graph[node]:\n",
    "                dfs(visited, graph, neighbour)\n",
    "\n",
    "def bfs(visited, graph, node, queue):\n",
    "    visited.add(node)\n",
    "    queue.append(node)\n",
    "\n",
    "    while queue:\n",
    "        s = queue.pop(0)\n",
    "        print(s, end=\" \")\n",
    "        if s in graph:  # Check if node exists in the graph\n",
    "            for neighbour in graph[s]:\n",
    "                if neighbour not in visited:\n",
    "                    visited.add(neighbour)\n",
    "                    queue.append(neighbour)\n",
    "\n",
    "def main():\n",
    "    visited1 = set()  # To keep track of DFS visited nodes\n",
    "    visited2 = set()  # To keep track of BFS visited nodes\n",
    "    queue = []        # For BFS\n",
    "    n = int(input(\"Enter number of nodes: \"))\n",
    "    graph = {}\n",
    "\n",
    "    for i in range(1, n+1):\n",
    "        edges = int(input(\"Enter number of edges for node {}: \".format(i)))\n",
    "        graph[i] = []\n",
    "        for j in range(edges):\n",
    "            node = int(input(\"Enter edge {} for node {}: \".format(j+1, i)))\n",
    "            graph[i].append(node)\n",
    "\n",
    "    print(\"The following is DFS\")\n",
    "    dfs(visited1, graph, 1)\n",
    "    print()\n",
    "    print(\"The following is BFS\")\n",
    "    bfs(visited2, graph, 1, queue)\n",
    "\n",
    "if __name__ == \"__main__\":\n",
    "    main()\n"
   ]
  },
  {
   "cell_type": "code",
   "execution_count": null,
   "id": "fe234862",
   "metadata": {},
   "outputs": [],
   "source": []
  }
 ],
 "metadata": {
  "kernelspec": {
   "display_name": "Python 3 (ipykernel)",
   "language": "python",
   "name": "python3"
  },
  "language_info": {
   "codemirror_mode": {
    "name": "ipython",
    "version": 3
   },
   "file_extension": ".py",
   "mimetype": "text/x-python",
   "name": "python",
   "nbconvert_exporter": "python",
   "pygments_lexer": "ipython3",
   "version": "3.11.5"
  }
 },
 "nbformat": 4,
 "nbformat_minor": 5
}
